{
 "cells": [
  {
   "cell_type": "code",
   "execution_count": 1,
   "metadata": {},
   "outputs": [],
   "source": [
    "import pandas as pd\n",
    "from math import sqrt\n",
    "import numpy as np\n",
    "import matplotlib.pyplot as plt"
   ]
  },
  {
   "cell_type": "code",
   "execution_count": 2,
   "metadata": {},
   "outputs": [
    {
     "name": "stdout",
     "output_type": "stream",
     "text": [
      "   movieId                               title  \\\n",
      "0        1                    Toy Story (1995)   \n",
      "1        2                      Jumanji (1995)   \n",
      "2        3             Grumpier Old Men (1995)   \n",
      "3        4            Waiting to Exhale (1995)   \n",
      "4        5  Father of the Bride Part II (1995)   \n",
      "\n",
      "                                        genres  \n",
      "0  Adventure|Animation|Children|Comedy|Fantasy  \n",
      "1                   Adventure|Children|Fantasy  \n",
      "2                               Comedy|Romance  \n",
      "3                         Comedy|Drama|Romance  \n",
      "4                                       Comedy  \n",
      "   userId  movieId  rating   timestamp\n",
      "0       1      296     5.0  1147880044\n",
      "1       1      306     3.5  1147868817\n",
      "2       1      307     5.0  1147868828\n",
      "3       1      665     5.0  1147878820\n",
      "4       1      899     3.5  1147868510\n"
     ]
    }
   ],
   "source": [
    "#Storing the movie information into a pandas dataframe\n",
    "movies_df = pd.read_csv('movies.csv')\n",
    "#Storing the user information into a pandas dataframe\n",
    "ratings_df = pd.read_csv('ratings.csv')\n",
    "#Head is a function that gets the first N rows of a dataframe. N's default is 5.\n",
    "print(movies_df.head())\n",
    "print(ratings_df.head())"
   ]
  },
  {
   "cell_type": "code",
   "execution_count": 3,
   "metadata": {},
   "outputs": [
    {
     "name": "stdout",
     "output_type": "stream",
     "text": [
      "   movieId                        title  \\\n",
      "0        1                    Toy Story   \n",
      "1        2                      Jumanji   \n",
      "2        3             Grumpier Old Men   \n",
      "3        4            Waiting to Exhale   \n",
      "4        5  Father of the Bride Part II   \n",
      "\n",
      "                                        genres  year  \n",
      "0  Adventure|Animation|Children|Comedy|Fantasy  1995  \n",
      "1                   Adventure|Children|Fantasy  1995  \n",
      "2                               Comedy|Romance  1995  \n",
      "3                         Comedy|Drama|Romance  1995  \n",
      "4                                       Comedy  1995  \n"
     ]
    }
   ],
   "source": [
    "#Using regular expressions to find a year stored between parentheses\n",
    "#We specify the parantheses so we don't conflict with movies that have years in their titles\n",
    "movies_df['year'] = movies_df.title.str.extract('(\\(\\d\\d\\d\\d\\))',expand=False)\n",
    "#Removing the parentheses\n",
    "movies_df['year'] = movies_df.year.str.extract('(\\d\\d\\d\\d)',expand=False)\n",
    "#Removing the years from the 'title' column\n",
    "movies_df['title'] = movies_df.title.str.replace('(\\(\\d\\d\\d\\d\\))', '')\n",
    "#Applying the strip function to get rid of any ending whitespace characters that may have appeared\n",
    "movies_df['title'] = movies_df['title'].apply(lambda x: x.strip())\n",
    "print(movies_df.head())"
   ]
  },
  {
   "cell_type": "code",
   "execution_count": 4,
   "metadata": {},
   "outputs": [
    {
     "name": "stdout",
     "output_type": "stream",
     "text": [
      "   movieId                        title  \\\n",
      "0        1                    Toy Story   \n",
      "1        2                      Jumanji   \n",
      "2        3             Grumpier Old Men   \n",
      "3        4            Waiting to Exhale   \n",
      "4        5  Father of the Bride Part II   \n",
      "\n",
      "                                        genres  year    A    d    v    e    n  \\\n",
      "0  Adventure|Animation|Children|Comedy|Fantasy  1995  1.0  1.0  1.0  1.0  1.0   \n",
      "1                   Adventure|Children|Fantasy  1995  1.0  1.0  1.0  1.0  1.0   \n",
      "2                               Comedy|Romance  1995  0.0  1.0  0.0  1.0  1.0   \n",
      "3                         Comedy|Drama|Romance  1995  0.0  1.0  0.0  1.0  1.0   \n",
      "4                                       Comedy  1995  0.0  1.0  0.0  1.0  0.0   \n",
      "\n",
      "     t  ...    S    -    I    X    W    N    (         g    )  \n",
      "0  1.0  ...  0.0  0.0  0.0  0.0  0.0  0.0  0.0  0.0  0.0  0.0  \n",
      "1  1.0  ...  0.0  0.0  0.0  0.0  0.0  0.0  0.0  0.0  0.0  0.0  \n",
      "2  0.0  ...  0.0  0.0  0.0  0.0  0.0  0.0  0.0  0.0  0.0  0.0  \n",
      "3  0.0  ...  0.0  0.0  0.0  0.0  0.0  0.0  0.0  0.0  0.0  0.0  \n",
      "4  0.0  ...  0.0  0.0  0.0  0.0  0.0  0.0  0.0  0.0  0.0  0.0  \n",
      "\n",
      "[5 rows x 39 columns]\n"
     ]
    }
   ],
   "source": [
    "#Copying the movie dataframe into a new one since we won't need to use the genre information in our first case.\n",
    "moviesWithGenres_df = movies_df.copy()\n",
    "\n",
    "#For every row in the dataframe, iterate through the list of genres and place a 1 into the corresponding column\n",
    "for index, row in movies_df.iterrows():\n",
    "    for genre in row['genres']:\n",
    "        moviesWithGenres_df.at[index, genre] = 1\n",
    "#Filling in the NaN values with 0 to show that a movie doesn't have that column's genre\n",
    "moviesWithGenres_df = moviesWithGenres_df.fillna(0)\n",
    "print(moviesWithGenres_df.head())"
   ]
  },
  {
   "cell_type": "code",
   "execution_count": 5,
   "metadata": {},
   "outputs": [
    {
     "name": "stdout",
     "output_type": "stream",
     "text": [
      "   userId  movieId  rating   timestamp\n",
      "0       1      296     5.0  1147880044\n",
      "1       1      306     3.5  1147868817\n",
      "2       1      307     5.0  1147868828\n",
      "3       1      665     5.0  1147878820\n",
      "4       1      899     3.5  1147868510\n"
     ]
    }
   ],
   "source": [
    "print(ratings_df.head())"
   ]
  },
  {
   "cell_type": "code",
   "execution_count": 6,
   "metadata": {},
   "outputs": [
    {
     "name": "stdout",
     "output_type": "stream",
     "text": [
      "   rating                         title\n",
      "0     5.0                 Dumb & Dumber\n",
      "1     5.0  Dirty Rotten Scoundrels, The\n",
      "2     4.8                Godfather, The\n",
      "3     4.7                  12 Angry Men\n",
      "4     4.1                  Pulp Fiction\n"
     ]
    }
   ],
   "source": [
    "userInput = [\n",
    "            {'title':'Dumb & Dumber', 'rating':5.0},\n",
    "            {'title':'Dirty Rotten Scoundrels, The', 'rating':5.0},\n",
    "            {'title':'Godfather, The', 'rating':4.8},\n",
    "            {'title':\"12 Angry Men\", 'rating':4.7},\n",
    "            {'title':'Pulp Fiction', 'rating':4.1}\n",
    "         ]\n",
    "inputMovies = pd.DataFrame(userInput)\n",
    "print(inputMovies)"
   ]
  },
  {
   "cell_type": "code",
   "execution_count": 7,
   "metadata": {},
   "outputs": [
    {
     "name": "stdout",
     "output_type": "stream",
     "text": [
      "   movieId           title  rating\n",
      "0      296    Pulp Fiction     4.1\n",
      "1      858  Godfather, The     4.8\n",
      "2     1203    12 Angry Men     4.7\n",
      "3    77846    12 Angry Men     4.7\n"
     ]
    }
   ],
   "source": [
    "#Filtering out the movies by title\n",
    "inputId = movies_df[movies_df['title'].isin(inputMovies['title'].tolist())]\n",
    "#Then merging it so we can get the movieId. It's implicitly merging it by title.\n",
    "inputMovies = pd.merge(inputId, inputMovies)\n",
    "#Dropping information we won't use from the input dataframe\n",
    "inputMovies = inputMovies.drop('genres', 1).drop('year', 1)\n",
    "#Final input dataframe\n",
    "#If a movie you added in above isn't here, then it might not be in the original\n",
    "#dataframe or it might spelled differently, please check capitalisation.\n",
    "print(inputMovies)"
   ]
  },
  {
   "cell_type": "code",
   "execution_count": 8,
   "metadata": {},
   "outputs": [
    {
     "name": "stdout",
     "output_type": "stream",
     "text": [
      "       movieId           title                       genres  year    A    d  \\\n",
      "292        296    Pulp Fiction  Comedy|Crime|Drama|Thriller  1994  0.0  1.0   \n",
      "840        858  Godfather, The                  Crime|Drama  1972  0.0  0.0   \n",
      "1173      1203    12 Angry Men                        Drama  1957  0.0  0.0   \n",
      "14675    77846    12 Angry Men                  Crime|Drama  1997  0.0  0.0   \n",
      "\n",
      "         v    e    n    t  ...    S    -    I    X    W    N    (         g  \\\n",
      "292    0.0  1.0  0.0  0.0  ...  0.0  0.0  0.0  0.0  0.0  0.0  0.0  0.0  0.0   \n",
      "840    0.0  1.0  0.0  0.0  ...  0.0  0.0  0.0  0.0  0.0  0.0  0.0  0.0  0.0   \n",
      "1173   0.0  0.0  0.0  0.0  ...  0.0  0.0  0.0  0.0  0.0  0.0  0.0  0.0  0.0   \n",
      "14675  0.0  1.0  0.0  0.0  ...  0.0  0.0  0.0  0.0  0.0  0.0  0.0  0.0  0.0   \n",
      "\n",
      "         )  \n",
      "292    0.0  \n",
      "840    0.0  \n",
      "1173   0.0  \n",
      "14675  0.0  \n",
      "\n",
      "[4 rows x 39 columns]\n"
     ]
    }
   ],
   "source": [
    "#Filtering out the movies from the input\n",
    "userMovies = moviesWithGenres_df[moviesWithGenres_df['movieId'].isin(inputMovies['movieId'].tolist())]\n",
    "print(userMovies)"
   ]
  },
  {
   "cell_type": "code",
   "execution_count": 9,
   "metadata": {},
   "outputs": [
    {
     "name": "stdout",
     "output_type": "stream",
     "text": [
      "     A    d    v    e    n    t    u    r    |    i  ...    S    -    I    X  \\\n",
      "0  0.0  1.0  0.0  1.0  0.0  0.0  0.0  1.0  1.0  1.0  ...  0.0  0.0  0.0  0.0   \n",
      "1  0.0  0.0  0.0  1.0  0.0  0.0  0.0  1.0  1.0  1.0  ...  0.0  0.0  0.0  0.0   \n",
      "2  0.0  0.0  0.0  0.0  0.0  0.0  0.0  1.0  0.0  0.0  ...  0.0  0.0  0.0  0.0   \n",
      "3  0.0  0.0  0.0  1.0  0.0  0.0  0.0  1.0  1.0  1.0  ...  0.0  0.0  0.0  0.0   \n",
      "\n",
      "     W    N    (         g    )  \n",
      "0  0.0  0.0  0.0  0.0  0.0  0.0  \n",
      "1  0.0  0.0  0.0  0.0  0.0  0.0  \n",
      "2  0.0  0.0  0.0  0.0  0.0  0.0  \n",
      "3  0.0  0.0  0.0  0.0  0.0  0.0  \n",
      "\n",
      "[4 rows x 35 columns]\n"
     ]
    }
   ],
   "source": [
    "#Resetting the index to avoid future issues\n",
    "userMovies = userMovies.reset_index(drop=True)\n",
    "#Dropping unnecessary issues due to save memory and to avoid issues\n",
    "userGenreTable = userMovies.drop('movieId', 1).drop('title', 1).drop('genres', 1).drop('year', 1)\n",
    "print(userGenreTable)"
   ]
  },
  {
   "cell_type": "code",
   "execution_count": 10,
   "metadata": {},
   "outputs": [
    {
     "name": "stdout",
     "output_type": "stream",
     "text": [
      "0    4.1\n",
      "1    4.8\n",
      "2    4.7\n",
      "3    4.7\n",
      "Name: rating, dtype: float64\n"
     ]
    }
   ],
   "source": [
    "print(inputMovies['rating'])"
   ]
  },
  {
   "cell_type": "code",
   "execution_count": 11,
   "metadata": {},
   "outputs": [
    {
     "name": "stdout",
     "output_type": "stream",
     "text": [
      "A     0.0\n",
      "d     4.1\n",
      "v     0.0\n",
      "e    13.6\n",
      "n     0.0\n",
      "t     0.0\n",
      "u     0.0\n",
      "r    18.3\n",
      "|    13.6\n",
      "i    13.6\n",
      "m    18.3\n",
      "a    18.3\n",
      "o     4.1\n",
      "C    13.6\n",
      "h     4.1\n",
      "l     4.1\n",
      "y     4.1\n",
      "F     0.0\n",
      "s     0.0\n",
      "R     0.0\n",
      "c     0.0\n",
      "D    18.3\n",
      "T     4.1\n",
      "H     0.0\n",
      "M     0.0\n",
      "S     0.0\n",
      "-     0.0\n",
      "I     0.0\n",
      "X     0.0\n",
      "W     0.0\n",
      "N     0.0\n",
      "(     0.0\n",
      "      0.0\n",
      "g     0.0\n",
      ")     0.0\n",
      "dtype: float64\n"
     ]
    }
   ],
   "source": [
    "#Dot produt to get weights\n",
    "userProfile = userGenreTable.transpose().dot(inputMovies['rating'])\n",
    "#The user profile\n",
    "print(userProfile)"
   ]
  },
  {
   "cell_type": "code",
   "execution_count": 12,
   "metadata": {},
   "outputs": [
    {
     "name": "stdout",
     "output_type": "stream",
     "text": [
      "           A    d    v    e    n    t    u    r    |    i  ...    S    -    I  \\\n",
      "movieId                                                    ...                  \n",
      "1        1.0  1.0  1.0  1.0  1.0  1.0  1.0  1.0  1.0  1.0  ...  0.0  0.0  0.0   \n",
      "2        1.0  1.0  1.0  1.0  1.0  1.0  1.0  1.0  1.0  1.0  ...  0.0  0.0  0.0   \n",
      "3        0.0  1.0  0.0  1.0  1.0  0.0  0.0  0.0  1.0  0.0  ...  0.0  0.0  0.0   \n",
      "4        0.0  1.0  0.0  1.0  1.0  0.0  0.0  1.0  1.0  0.0  ...  0.0  0.0  0.0   \n",
      "5        0.0  1.0  0.0  1.0  0.0  0.0  0.0  0.0  0.0  0.0  ...  0.0  0.0  0.0   \n",
      "\n",
      "           X    W    N    (         g    )  \n",
      "movieId                                     \n",
      "1        0.0  0.0  0.0  0.0  0.0  0.0  0.0  \n",
      "2        0.0  0.0  0.0  0.0  0.0  0.0  0.0  \n",
      "3        0.0  0.0  0.0  0.0  0.0  0.0  0.0  \n",
      "4        0.0  0.0  0.0  0.0  0.0  0.0  0.0  \n",
      "5        0.0  0.0  0.0  0.0  0.0  0.0  0.0  \n",
      "\n",
      "[5 rows x 35 columns]\n"
     ]
    }
   ],
   "source": [
    "#Now let's get the genres of every movie in our original dataframe\n",
    "genreTable = moviesWithGenres_df.set_index(moviesWithGenres_df['movieId'])\n",
    "#And drop the unnecessary information\n",
    "genreTable = genreTable.drop('movieId', 1).drop('title', 1).drop('genres', 1).drop('year', 1)\n",
    "print(genreTable.head())"
   ]
  },
  {
   "cell_type": "code",
   "execution_count": 13,
   "metadata": {},
   "outputs": [
    {
     "name": "stdout",
     "output_type": "stream",
     "text": [
      "movieId\n",
      "1    0.852825\n",
      "2    0.705650\n",
      "3    0.589356\n",
      "4    0.829829\n",
      "5    0.379763\n",
      "dtype: float64\n"
     ]
    }
   ],
   "source": [
    "#Multiply the genres by the weights and then take the weighted average\n",
    "recommendationTable_df = ((genreTable*userProfile).sum(axis=1))/(userProfile.sum())\n",
    "print(recommendationTable_df.head())"
   ]
  },
  {
   "cell_type": "code",
   "execution_count": 14,
   "metadata": {},
   "outputs": [
    {
     "name": "stdout",
     "output_type": "stream",
     "text": [
      "movieId\n",
      "151755    1.0\n",
      "156276    1.0\n",
      "608       1.0\n",
      "141418    1.0\n",
      "1912      1.0\n",
      "dtype: float64\n"
     ]
    }
   ],
   "source": [
    "#Sort our recommendations in descending order\n",
    "recommendationTable_df = recommendationTable_df.sort_values(ascending=False)\n",
    "#Just a peek at the values\n",
    "print(recommendationTable_df.head())"
   ]
  },
  {
   "cell_type": "code",
   "execution_count": 15,
   "metadata": {},
   "outputs": [
    {
     "name": "stdout",
     "output_type": "stream",
     "text": [
      "600                                                  Fargo\n",
      "1823                                          Out of Sight\n",
      "12390    Honor Among Thieves (Adieu l'ami) (Farewell, F...\n",
      "12412                                       Protector, The\n",
      "17795           Girls on the Road (a.k.a. Hot Summer Week)\n",
      "25008                                         The 39 Steps\n",
      "27088                                          Inseparable\n",
      "32648                                     Sexy Evil Genius\n",
      "37040                                              Orleans\n",
      "39038                                The Lone Wolf Strikes\n",
      "Name: title, dtype: object\n"
     ]
    }
   ],
   "source": [
    "#The final recommendation table\n",
    "a = movies_df.loc[movies_df['movieId'].isin(recommendationTable_df.head(10).keys())]\n",
    "print(a['title'])"
   ]
  },
  {
   "cell_type": "code",
   "execution_count": null,
   "metadata": {},
   "outputs": [],
   "source": []
  }
 ],
 "metadata": {
  "kernelspec": {
   "display_name": "Python 3",
   "language": "python",
   "name": "python3"
  },
  "language_info": {
   "codemirror_mode": {
    "name": "ipython",
    "version": 3
   },
   "file_extension": ".py",
   "mimetype": "text/x-python",
   "name": "python",
   "nbconvert_exporter": "python",
   "pygments_lexer": "ipython3",
   "version": "3.7.6"
  }
 },
 "nbformat": 4,
 "nbformat_minor": 2
}
